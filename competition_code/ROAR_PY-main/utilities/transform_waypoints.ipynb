{
 "cells": [
  {
   "cell_type": "code",
   "execution_count": 1,
   "metadata": {},
   "outputs": [],
   "source": [
    "import numpy as np\n",
    "import pandas as pd\n",
    "from roar_py_carla.carla_agents.navigation.global_route_planner import GlobalRoutePlanner"
   ]
  },
  {
   "cell_type": "code",
   "execution_count": 2,
   "metadata": {},
   "outputs": [],
   "source": [
    "dat = pd.read_csv(\"new_right_side_waypoints.txt\", header=None)"
   ]
  },
  {
   "cell_type": "code",
   "execution_count": 3,
   "metadata": {},
   "outputs": [
    {
     "name": "stdout",
     "output_type": "stream",
     "text": [
      "                 0           1            2\n",
      "0      2599.199951  104.746101  4372.600098\n",
      "1      2599.199951  104.682404  4372.600098\n",
      "2      2599.199951  104.594200  4372.600098\n",
      "3      2599.199951  104.481499  4372.600098\n",
      "4      2599.199951  104.344292  4372.600098\n",
      "...            ...         ...          ...\n",
      "46063  2603.321289  107.629265  4270.680664\n",
      "46064  2603.321289  107.628433  4270.694824\n",
      "46065  2603.321289  107.627632  4270.708496\n",
      "46066  2603.321289  107.626801  4270.722656\n",
      "46067  2603.321289  107.625954  4270.736328\n",
      "\n",
      "[46068 rows x 3 columns]\n"
     ]
    }
   ],
   "source": [
    "print(dat)"
   ]
  },
  {
   "cell_type": "code",
   "execution_count": 10,
   "metadata": {},
   "outputs": [],
   "source": [
    "dat_np = np.asarray(dat)"
   ]
  },
  {
   "cell_type": "code",
   "execution_count": 11,
   "metadata": {},
   "outputs": [
    {
     "name": "stdout",
     "output_type": "stream",
     "text": [
      "(46068, 3)\n",
      "(922, 3)\n"
     ]
    }
   ],
   "source": [
    "dat_np\n",
    "print(dat_np.shape)\n",
    "dat_np = dat_np[:,[0,2,1]]\n",
    "dat_np_sparse = dat_np[::50,:]\n",
    "print(dat_np_sparse.shape)"
   ]
  },
  {
   "cell_type": "code",
   "execution_count": 9,
   "metadata": {},
   "outputs": [
    {
     "data": {
      "text/plain": [
       "array([[2599.19995117, 4372.60009766,  104.74610138],\n",
       "       [2599.19995117, 4372.60009766,  103.00659943],\n",
       "       [2599.19995117, 4372.59179688,  102.78607178],\n",
       "       ...,\n",
       "       [2603.32104492, 4270.36279297,  107.64844513],\n",
       "       [2603.32128906, 4270.49853516,  107.64022064],\n",
       "       [2603.32128906, 4270.63867188,  107.63179779]])"
      ]
     },
     "execution_count": 9,
     "metadata": {},
     "output_type": "execute_result"
    }
   ],
   "source": [
    "dat_np_sparse"
   ]
  },
  {
   "cell_type": "code",
   "execution_count": 15,
   "metadata": {},
   "outputs": [],
   "source": [
    "import carla\n",
    "import roar_py_carla\n",
    "import roar_py_interface\n",
    "import networkx as nx\n",
    "\n",
    "carla_client = carla.Client('localhost', 2000)\n",
    "carla_client.set_timeout(5.0)\n",
    "roar_py_instance = roar_py_carla.RoarPyCarlaInstance(carla_client)\n",
    "roar_py_world = roar_py_instance.world\n",
    "grp = GlobalRoutePlanner(roar_py_world._native_carla_map, 2.0)\n",
    "native_ws = []\n",
    "\n",
    "\n",
    "for i in range(len(dat_np_sparse)):\n",
    "    curr_start = dat_np_sparse[i]\n",
    "    curr_end = dat_np_sparse[(i+1)%len(dat_np_sparse)]\n",
    "    loc_1 = carla.Location(curr_start[0], curr_start[1], curr_start[2])\n",
    "    loc_2 = carla.Location(curr_end[0], curr_end[1], curr_end[2])\n",
    "    try:\n",
    "        native_ws += grp.trace_route(loc_1, loc_2)\n",
    "    except nx.NetworkXNoPath:\n",
    "        continue"
   ]
  },
  {
   "cell_type": "code",
   "execution_count": 16,
   "metadata": {},
   "outputs": [],
   "source": [
    "real_ws = []\n",
    "for native_ww in native_ws:\n",
    "    w = native_ww[0]\n",
    "    transform_w = roar_py_carla.transform_from_carla(w.transform)\n",
    "    transform_w[1][2] += np.pi/2\n",
    "    real_w = roar_py_interface.RoarPyWaypoint(\n",
    "        transform_w[0],\n",
    "        transform_w[1],\n",
    "        w.lane_width\n",
    "    )\n",
    "    real_ws.append(real_w)"
   ]
  },
  {
   "cell_type": "code",
   "execution_count": 17,
   "metadata": {},
   "outputs": [],
   "source": [
    "np.savez_compressed(\"final_major_map_waypoints.npz\", **roar_py_interface.RoarPyWaypoint.save_waypoint_list(real_ws))"
   ]
  },
  {
   "cell_type": "code",
   "execution_count": 28,
   "metadata": {},
   "outputs": [
    {
     "name": "stdout",
     "output_type": "stream",
     "text": [
      "final length 6942\n",
      "[-4372.60009766 -2599.19995117   104.74610138]\n"
     ]
    }
   ],
   "source": [
    "from roar_py_interface import RoarPyWaypoint\n",
    "from typing import List, Tuple\n",
    "from roar_py_carla.utils import *\n",
    "import carla\n",
    "\n",
    "def generate_waypoints(locations : List[np.ndarray], distance_between_waypoints : float, lane_width : float):\n",
    "    locations = [location_from_carla(carla.Location(x=location[0], y=location[1], z=location[2])) for location in locations]\n",
    "    waypoint_locations = [locations[0]]\n",
    "    waypoint_rotations = []\n",
    "    last_location_idx = 0\n",
    "    for i in range(1,len(locations)):\n",
    "        next_location = locations[i]\n",
    "        dist_to_last_location = np.linalg.norm(next_location - locations[last_location_idx])\n",
    "        if dist_to_last_location > distance_between_waypoints:\n",
    "            waypoint_locations.append(next_location)\n",
    "            waypoint_rotations.append(np.arctan2(next_location[1] - locations[last_location_idx][1], next_location[0] - locations[last_location_idx][0]))\n",
    "            last_location_idx = i\n",
    "    waypoint_rotations.append(np.arctan2(locations[0][1] - waypoint_locations[-1][1], locations[0][0] - waypoint_locations[-1][0]))\n",
    "    waypoints = []\n",
    "    for i in range(len(waypoint_locations)):\n",
    "        waypoints.append(RoarPyWaypoint(\n",
    "            waypoint_locations[i],\n",
    "            np.array([0,0,waypoint_rotations[i]]),\n",
    "            lane_width\n",
    "        ))\n",
    "    return waypoints\n",
    "\n",
    "waypoints = generate_waypoints(dat_np, 2, 3.5)\n",
    "print(\"final length\",len(waypoints))\n",
    "\n",
    "np.savez_compressed(\"final_major_map_waypoints.npz\", **RoarPyWaypoint.save_waypoint_list(waypoints))\n",
    "print(waypoints[0].location)"
   ]
  },
  {
   "cell_type": "code",
   "execution_count": 26,
   "metadata": {},
   "outputs": [
    {
     "name": "stdout",
     "output_type": "stream",
     "text": [
      "(11, 3)\n"
     ]
    }
   ],
   "source": [
    "\n",
    "def generate_spawn_points(waypoints : List[RoarPyWaypoint]) -> Tuple[np.ndarray, np.ndarray]:\n",
    "    spawn_point_locations = []\n",
    "    spawn_rotations = []\n",
    "    for spawn_point in waypoints[::len(waypoints)//10]:\n",
    "        spawn_point_locations.append(spawn_point.location)\n",
    "        spawn_rotations.append(spawn_point.roll_pitch_yaw)\n",
    "    return np.stack(spawn_point_locations, axis=0), np.stack(spawn_rotations, axis=0)\n",
    "\n",
    "spawn_point_locations, spawn_rotations = generate_spawn_points(waypoints)\n",
    "print(spawn_point_locations.shape)\n",
    "np.savez_compressed(\"final_major_map_spawn_points.npz\", locations=spawn_point_locations, rotations=spawn_rotations)"
   ]
  },
  {
   "cell_type": "code",
   "execution_count": null,
   "metadata": {},
   "outputs": [],
   "source": []
  }
 ],
 "metadata": {
  "kernelspec": {
   "display_name": "roar_py",
   "language": "python",
   "name": "python3"
  },
  "language_info": {
   "codemirror_mode": {
    "name": "ipython",
    "version": 3
   },
   "file_extension": ".py",
   "mimetype": "text/x-python",
   "name": "python",
   "nbconvert_exporter": "python",
   "pygments_lexer": "ipython3",
   "version": "3.8.16"
  },
  "orig_nbformat": 4
 },
 "nbformat": 4,
 "nbformat_minor": 2
}
